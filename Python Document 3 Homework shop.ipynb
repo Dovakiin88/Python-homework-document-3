{
 "cells": [
  {
   "cell_type": "code",
   "execution_count": 1,
   "metadata": {},
   "outputs": [
    {
     "name": "stdout",
     "output_type": "stream",
     "text": [
      "Name your product? cheese\n",
      "How many? 2\n",
      "Anything else?yes\n",
      "so far you have {'cheese': 2}\n",
      "Name your product? icecream\n",
      "How many? 2\n",
      "Anything else?show\n",
      "so far you have {'cheese': 2, 'icecream': 2}\n",
      "Name your product? chips\n",
      "How many? 1\n",
      "Anything else?no\n",
      "Would you like to edit your cart? or remove an item?no\n",
      "okay! This is your cart. {'cheese': 2, 'icecream': 2, 'chips': 1}.\n"
     ]
    }
   ],
   "source": [
    "import shop"
   ]
  },
  {
   "cell_type": "code",
   "execution_count": null,
   "metadata": {},
   "outputs": [],
   "source": []
  }
 ],
 "metadata": {
  "kernelspec": {
   "display_name": "Python 3",
   "language": "python",
   "name": "python3"
  },
  "language_info": {
   "codemirror_mode": {
    "name": "ipython",
    "version": 3
   },
   "file_extension": ".py",
   "mimetype": "text/x-python",
   "name": "python",
   "nbconvert_exporter": "python",
   "pygments_lexer": "ipython3",
   "version": "3.8.5"
  }
 },
 "nbformat": 4,
 "nbformat_minor": 4
}
